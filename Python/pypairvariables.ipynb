{
 "cells": [
  {
   "cell_type": "code",
   "execution_count": 2,
   "metadata": {},
   "outputs": [
    {
     "name": "stdout",
     "output_type": "stream",
     "text": [
      "Maria Victoria Pilar\n"
     ]
    }
   ],
   "source": [
    "\n",
    "\n",
    "nombre = input(\"introduce_tu_nombre :\")\n",
    "\n",
    "nombre2 = input (\"introduce_tu_nombre:\")\n",
    "nombre3 = input(\"introduce_tu_nombre:\")\n",
    "print (nombre+ \" \"+nombre2+ \" \"+nombre3)\n"
   ]
  },
  {
   "cell_type": "code",
   "execution_count": 5,
   "metadata": {},
   "outputs": [
    {
     "name": "stdout",
     "output_type": "stream",
     "text": [
      "['Maria', 'Victoria', 'Pilar']\n"
     ]
    }
   ],
   "source": [
    "nombres = [nombre,nombre2,nombre3]\n",
    "print (nombres)"
   ]
  },
  {
   "cell_type": "code",
   "execution_count": 7,
   "metadata": {},
   "outputs": [
    {
     "name": "stdout",
     "output_type": "stream",
     "text": [
      "1.50 1.65 1.70\n"
     ]
    }
   ],
   "source": [
    "altura= input(\"introduce_tu_altura :\")\n",
    "\n",
    "altura2 = input (\"introduce_tu_altura:\")\n",
    "altura3 = input(\"introduce_tu_altura:\")\n",
    "print (altura +\" \"+altura2+ \" \"+altura3)"
   ]
  },
  {
   "cell_type": "code",
   "execution_count": 9,
   "metadata": {},
   "outputs": [
    {
     "name": "stdout",
     "output_type": "stream",
     "text": [
      "['1.50', '1.65', '1.70']\n"
     ]
    }
   ],
   "source": [
    "lista_de_alturas = [altura,altura2,altura3]\n",
    "print (lista_de_alturas)"
   ]
  },
  {
   "cell_type": "code",
   "execution_count": 12,
   "metadata": {},
   "outputs": [],
   "source": [
    "lista_de_alturas = [float(i) for i in lista_de_alturas]"
   ]
  },
  {
   "cell_type": "code",
   "execution_count": 16,
   "metadata": {},
   "outputs": [
    {
     "name": "stdout",
     "output_type": "stream",
     "text": [
      "['Victoria', 'Pilar', 'Maria', 1.7, 1.65, 1.5]\n"
     ]
    }
   ],
   "source": [
    "nombres.sort(reverse=True)\n",
    "lista_de_alturas.sort(reverse=True)\n",
    "print (nombres+lista_de_alturas)\n"
   ]
  },
  {
   "cell_type": "code",
   "execution_count": 21,
   "metadata": {},
   "outputs": [
    {
     "name": "stdout",
     "output_type": "stream",
     "text": [
      "1.7 1.5\n"
     ]
    }
   ],
   "source": [
    "\n",
    "altura_max = max(lista_de_alturas)\n",
    "altura_min = min(lista_de_alturas)\n",
    "print (altura_max, altura_min)"
   ]
  },
  {
   "cell_type": "code",
   "execution_count": 36,
   "metadata": {},
   "outputs": [
    {
     "name": "stdout",
     "output_type": "stream",
     "text": [
      "[[44, 55, 67, 44, 98, 29], [34, 56, 56, 78, 67, 56]]\n",
      "[44, 55, 67, 44, 98, 29, 34, 56, 56, 78, 67, 56]\n"
     ]
    }
   ],
   "source": [
    "lista1 = [44, 55, 67, 44, 98, 29]\n",
    "lista2 = [34, 56, 56, 78, 67, 56]\n",
    "lista_lista = [lista1,lista2]\n",
    "print (lista_lista)\n",
    "lista_numeros= lista1+ lista2\n",
    "print (lista_numeros)"
   ]
  },
  {
   "cell_type": "code",
   "execution_count": 37,
   "metadata": {},
   "outputs": [
    {
     "name": "stdout",
     "output_type": "stream",
     "text": [
      "0\n",
      "2\n"
     ]
    }
   ],
   "source": [
    "count1= lista_lista.count(67)\n",
    "count2= lista_numeros.count(67)\n",
    "print (count1)\n",
    "print (count2)"
   ]
  },
  {
   "cell_type": "code",
   "execution_count": 40,
   "metadata": {},
   "outputs": [
    {
     "data": {
      "text/plain": [
       "[44, 55, 67, 44, 98, 29, 34, 56, 56, 78, 67, 56]"
      ]
     },
     "execution_count": 40,
     "metadata": {},
     "output_type": "execute_result"
    }
   ],
   "source": [
    "#aqui hay que darle la vuelta y e intentado con .reverse y no me funciona. cual seria?\n",
    "lista_numeros"
   ]
  }
 ],
 "metadata": {
  "kernelspec": {
   "display_name": "base",
   "language": "python",
   "name": "python3"
  },
  "language_info": {
   "codemirror_mode": {
    "name": "ipython",
    "version": 3
   },
   "file_extension": ".py",
   "mimetype": "text/x-python",
   "name": "python",
   "nbconvert_exporter": "python",
   "pygments_lexer": "ipython3",
   "version": "3.9.7"
  },
  "orig_nbformat": 4
 },
 "nbformat": 4,
 "nbformat_minor": 2
}
